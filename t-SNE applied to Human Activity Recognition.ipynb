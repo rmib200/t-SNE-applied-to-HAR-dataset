{
 "cells": [
  {
   "cell_type": "code",
   "execution_count": 4,
   "metadata": {},
   "outputs": [],
   "source": [
    "import pandas as pd\n",
    "import numpy as np\n",
    "from sklearn.preprocessing import LabelEncoder\n",
    "from sklearn.preprocessing import StandardScaler\n",
    "#from sklearn.cross_validation import train_test_split\n",
    "from sklearn.model_selection import cross_val_score, train_test_split\n",
    "from sklearn.metrics import accuracy_score\n",
    "import matplotlib.pyplot as plt\n"
   ]
  },
  {
   "cell_type": "code",
   "execution_count": 45,
   "metadata": {},
   "outputs": [
    {
     "name": "stdout",
     "output_type": "stream",
     "text": [
      "The scikit-learn version is 0.20.3.\n"
     ]
    }
   ],
   "source": [
    "import sklearn\n",
    "print('The scikit-learn version is {}.'.format(sklearn.__version__))\n"
   ]
  },
  {
   "cell_type": "code",
   "execution_count": 5,
   "metadata": {},
   "outputs": [
    {
     "name": "stderr",
     "output_type": "stream",
     "text": [
      "C:\\ProgramData\\Anaconda3\\lib\\site-packages\\IPython\\core\\interactiveshell.py:3049: DtypeWarning: Columns (11,14,19,22,25,70,73,86,87,89,90,94,97,100) have mixed types. Specify dtype option on import or set low_memory=False.\n",
      "  interactivity=interactivity, compiler=compiler, result=result)\n"
     ]
    }
   ],
   "source": [
    "df = pd.read_csv(\"https://d396qusza40orc.cloudfront.net/predmachlearn/pml-training.csv\")"
   ]
  },
  {
   "cell_type": "code",
   "execution_count": 6,
   "metadata": {},
   "outputs": [
    {
     "data": {
      "text/html": [
       "<div>\n",
       "<style scoped>\n",
       "    .dataframe tbody tr th:only-of-type {\n",
       "        vertical-align: middle;\n",
       "    }\n",
       "\n",
       "    .dataframe tbody tr th {\n",
       "        vertical-align: top;\n",
       "    }\n",
       "\n",
       "    .dataframe thead th {\n",
       "        text-align: right;\n",
       "    }\n",
       "</style>\n",
       "<table border=\"1\" class=\"dataframe\">\n",
       "  <thead>\n",
       "    <tr style=\"text-align: right;\">\n",
       "      <th></th>\n",
       "      <th>Unnamed: 0</th>\n",
       "      <th>user_name</th>\n",
       "      <th>raw_timestamp_part_1</th>\n",
       "      <th>raw_timestamp_part_2</th>\n",
       "      <th>cvtd_timestamp</th>\n",
       "      <th>new_window</th>\n",
       "      <th>num_window</th>\n",
       "      <th>roll_belt</th>\n",
       "      <th>pitch_belt</th>\n",
       "      <th>yaw_belt</th>\n",
       "      <th>...</th>\n",
       "      <th>gyros_forearm_x</th>\n",
       "      <th>gyros_forearm_y</th>\n",
       "      <th>gyros_forearm_z</th>\n",
       "      <th>accel_forearm_x</th>\n",
       "      <th>accel_forearm_y</th>\n",
       "      <th>accel_forearm_z</th>\n",
       "      <th>magnet_forearm_x</th>\n",
       "      <th>magnet_forearm_y</th>\n",
       "      <th>magnet_forearm_z</th>\n",
       "      <th>classe</th>\n",
       "    </tr>\n",
       "  </thead>\n",
       "  <tbody>\n",
       "    <tr>\n",
       "      <th>0</th>\n",
       "      <td>1</td>\n",
       "      <td>carlitos</td>\n",
       "      <td>1323084231</td>\n",
       "      <td>788290</td>\n",
       "      <td>05/12/2011 11:23</td>\n",
       "      <td>no</td>\n",
       "      <td>11</td>\n",
       "      <td>1.41</td>\n",
       "      <td>8.07</td>\n",
       "      <td>-94.4</td>\n",
       "      <td>...</td>\n",
       "      <td>0.03</td>\n",
       "      <td>0.00</td>\n",
       "      <td>-0.02</td>\n",
       "      <td>192</td>\n",
       "      <td>203</td>\n",
       "      <td>-215</td>\n",
       "      <td>-17</td>\n",
       "      <td>654.0</td>\n",
       "      <td>476.0</td>\n",
       "      <td>A</td>\n",
       "    </tr>\n",
       "    <tr>\n",
       "      <th>1</th>\n",
       "      <td>2</td>\n",
       "      <td>carlitos</td>\n",
       "      <td>1323084231</td>\n",
       "      <td>808298</td>\n",
       "      <td>05/12/2011 11:23</td>\n",
       "      <td>no</td>\n",
       "      <td>11</td>\n",
       "      <td>1.41</td>\n",
       "      <td>8.07</td>\n",
       "      <td>-94.4</td>\n",
       "      <td>...</td>\n",
       "      <td>0.02</td>\n",
       "      <td>0.00</td>\n",
       "      <td>-0.02</td>\n",
       "      <td>192</td>\n",
       "      <td>203</td>\n",
       "      <td>-216</td>\n",
       "      <td>-18</td>\n",
       "      <td>661.0</td>\n",
       "      <td>473.0</td>\n",
       "      <td>A</td>\n",
       "    </tr>\n",
       "    <tr>\n",
       "      <th>2</th>\n",
       "      <td>3</td>\n",
       "      <td>carlitos</td>\n",
       "      <td>1323084231</td>\n",
       "      <td>820366</td>\n",
       "      <td>05/12/2011 11:23</td>\n",
       "      <td>no</td>\n",
       "      <td>11</td>\n",
       "      <td>1.42</td>\n",
       "      <td>8.07</td>\n",
       "      <td>-94.4</td>\n",
       "      <td>...</td>\n",
       "      <td>0.03</td>\n",
       "      <td>-0.02</td>\n",
       "      <td>0.00</td>\n",
       "      <td>196</td>\n",
       "      <td>204</td>\n",
       "      <td>-213</td>\n",
       "      <td>-18</td>\n",
       "      <td>658.0</td>\n",
       "      <td>469.0</td>\n",
       "      <td>A</td>\n",
       "    </tr>\n",
       "    <tr>\n",
       "      <th>3</th>\n",
       "      <td>4</td>\n",
       "      <td>carlitos</td>\n",
       "      <td>1323084232</td>\n",
       "      <td>120339</td>\n",
       "      <td>05/12/2011 11:23</td>\n",
       "      <td>no</td>\n",
       "      <td>12</td>\n",
       "      <td>1.48</td>\n",
       "      <td>8.05</td>\n",
       "      <td>-94.4</td>\n",
       "      <td>...</td>\n",
       "      <td>0.02</td>\n",
       "      <td>-0.02</td>\n",
       "      <td>0.00</td>\n",
       "      <td>189</td>\n",
       "      <td>206</td>\n",
       "      <td>-214</td>\n",
       "      <td>-16</td>\n",
       "      <td>658.0</td>\n",
       "      <td>469.0</td>\n",
       "      <td>A</td>\n",
       "    </tr>\n",
       "    <tr>\n",
       "      <th>4</th>\n",
       "      <td>5</td>\n",
       "      <td>carlitos</td>\n",
       "      <td>1323084232</td>\n",
       "      <td>196328</td>\n",
       "      <td>05/12/2011 11:23</td>\n",
       "      <td>no</td>\n",
       "      <td>12</td>\n",
       "      <td>1.48</td>\n",
       "      <td>8.07</td>\n",
       "      <td>-94.4</td>\n",
       "      <td>...</td>\n",
       "      <td>0.02</td>\n",
       "      <td>0.00</td>\n",
       "      <td>-0.02</td>\n",
       "      <td>189</td>\n",
       "      <td>206</td>\n",
       "      <td>-214</td>\n",
       "      <td>-17</td>\n",
       "      <td>655.0</td>\n",
       "      <td>473.0</td>\n",
       "      <td>A</td>\n",
       "    </tr>\n",
       "  </tbody>\n",
       "</table>\n",
       "<p>5 rows × 160 columns</p>\n",
       "</div>"
      ],
      "text/plain": [
       "   Unnamed: 0 user_name  raw_timestamp_part_1  raw_timestamp_part_2  \\\n",
       "0           1  carlitos            1323084231                788290   \n",
       "1           2  carlitos            1323084231                808298   \n",
       "2           3  carlitos            1323084231                820366   \n",
       "3           4  carlitos            1323084232                120339   \n",
       "4           5  carlitos            1323084232                196328   \n",
       "\n",
       "     cvtd_timestamp new_window  num_window  roll_belt  pitch_belt  yaw_belt  \\\n",
       "0  05/12/2011 11:23         no          11       1.41        8.07     -94.4   \n",
       "1  05/12/2011 11:23         no          11       1.41        8.07     -94.4   \n",
       "2  05/12/2011 11:23         no          11       1.42        8.07     -94.4   \n",
       "3  05/12/2011 11:23         no          12       1.48        8.05     -94.4   \n",
       "4  05/12/2011 11:23         no          12       1.48        8.07     -94.4   \n",
       "\n",
       "   ...  gyros_forearm_x gyros_forearm_y gyros_forearm_z accel_forearm_x  \\\n",
       "0  ...             0.03            0.00           -0.02             192   \n",
       "1  ...             0.02            0.00           -0.02             192   \n",
       "2  ...             0.03           -0.02            0.00             196   \n",
       "3  ...             0.02           -0.02            0.00             189   \n",
       "4  ...             0.02            0.00           -0.02             189   \n",
       "\n",
       "  accel_forearm_y accel_forearm_z magnet_forearm_x  magnet_forearm_y  \\\n",
       "0             203            -215              -17             654.0   \n",
       "1             203            -216              -18             661.0   \n",
       "2             204            -213              -18             658.0   \n",
       "3             206            -214              -16             658.0   \n",
       "4             206            -214              -17             655.0   \n",
       "\n",
       "   magnet_forearm_z classe  \n",
       "0             476.0      A  \n",
       "1             473.0      A  \n",
       "2             469.0      A  \n",
       "3             469.0      A  \n",
       "4             473.0      A  \n",
       "\n",
       "[5 rows x 160 columns]"
      ]
     },
     "execution_count": 6,
     "metadata": {},
     "output_type": "execute_result"
    }
   ],
   "source": [
    "df.head()"
   ]
  },
  {
   "cell_type": "code",
   "execution_count": 8,
   "metadata": {},
   "outputs": [
    {
     "name": "stdout",
     "output_type": "stream",
     "text": [
      "19622\n"
     ]
    }
   ],
   "source": [
    "num_rows = df.shape[0]\n",
    "print(num_rows)"
   ]
  },
  {
   "cell_type": "code",
   "execution_count": 10,
   "metadata": {},
   "outputs": [
    {
     "name": "stdout",
     "output_type": "stream",
     "text": [
      "total NaN Unnamed: 0                     0\n",
      "user_name                      0\n",
      "raw_timestamp_part_1           0\n",
      "raw_timestamp_part_2           0\n",
      "cvtd_timestamp                 0\n",
      "new_window                     0\n",
      "num_window                     0\n",
      "roll_belt                      0\n",
      "pitch_belt                     0\n",
      "yaw_belt                       0\n",
      "total_accel_belt               0\n",
      "kurtosis_roll_belt         19216\n",
      "kurtosis_picth_belt        19216\n",
      "kurtosis_yaw_belt          19216\n",
      "skewness_roll_belt         19216\n",
      "skewness_roll_belt.1       19216\n",
      "skewness_yaw_belt          19216\n",
      "max_roll_belt              19216\n",
      "max_picth_belt             19216\n",
      "max_yaw_belt               19216\n",
      "min_roll_belt              19216\n",
      "min_pitch_belt             19216\n",
      "min_yaw_belt               19216\n",
      "amplitude_roll_belt        19216\n",
      "amplitude_pitch_belt       19216\n",
      "amplitude_yaw_belt         19216\n",
      "var_total_accel_belt       19216\n",
      "avg_roll_belt              19216\n",
      "stddev_roll_belt           19216\n",
      "var_roll_belt              19216\n",
      "                           ...  \n",
      "max_roll_forearm           19216\n",
      "max_picth_forearm          19216\n",
      "max_yaw_forearm            19216\n",
      "min_roll_forearm           19216\n",
      "min_pitch_forearm          19216\n",
      "min_yaw_forearm            19216\n",
      "amplitude_roll_forearm     19216\n",
      "amplitude_pitch_forearm    19216\n",
      "amplitude_yaw_forearm      19216\n",
      "total_accel_forearm            0\n",
      "var_accel_forearm          19216\n",
      "avg_roll_forearm           19216\n",
      "stddev_roll_forearm        19216\n",
      "var_roll_forearm           19216\n",
      "avg_pitch_forearm          19216\n",
      "stddev_pitch_forearm       19216\n",
      "var_pitch_forearm          19216\n",
      "avg_yaw_forearm            19216\n",
      "stddev_yaw_forearm         19216\n",
      "var_yaw_forearm            19216\n",
      "gyros_forearm_x                0\n",
      "gyros_forearm_y                0\n",
      "gyros_forearm_z                0\n",
      "accel_forearm_x                0\n",
      "accel_forearm_y                0\n",
      "accel_forearm_z                0\n",
      "magnet_forearm_x               0\n",
      "magnet_forearm_y               0\n",
      "magnet_forearm_z               0\n",
      "classe                         0\n",
      "Length: 160, dtype: int64 \n",
      " total without NaN Unnamed: 0              0\n",
      "user_name               0\n",
      "raw_timestamp_part_1    0\n",
      "raw_timestamp_part_2    0\n",
      "cvtd_timestamp          0\n",
      "new_window              0\n",
      "num_window              0\n",
      "roll_belt               0\n",
      "pitch_belt              0\n",
      "yaw_belt                0\n",
      "total_accel_belt        0\n",
      "gyros_belt_x            0\n",
      "gyros_belt_y            0\n",
      "gyros_belt_z            0\n",
      "accel_belt_x            0\n",
      "accel_belt_y            0\n",
      "accel_belt_z            0\n",
      "magnet_belt_x           0\n",
      "magnet_belt_y           0\n",
      "magnet_belt_z           0\n",
      "roll_arm                0\n",
      "pitch_arm               0\n",
      "yaw_arm                 0\n",
      "total_accel_arm         0\n",
      "gyros_arm_x             0\n",
      "gyros_arm_y             0\n",
      "gyros_arm_z             0\n",
      "accel_arm_x             0\n",
      "accel_arm_y             0\n",
      "accel_arm_z             0\n",
      "magnet_arm_x            0\n",
      "magnet_arm_y            0\n",
      "magnet_arm_z            0\n",
      "roll_dumbbell           0\n",
      "pitch_dumbbell          0\n",
      "yaw_dumbbell            0\n",
      "total_accel_dumbbell    0\n",
      "gyros_dumbbell_x        0\n",
      "gyros_dumbbell_y        0\n",
      "gyros_dumbbell_z        0\n",
      "accel_dumbbell_x        0\n",
      "accel_dumbbell_y        0\n",
      "accel_dumbbell_z        0\n",
      "magnet_dumbbell_x       0\n",
      "magnet_dumbbell_y       0\n",
      "magnet_dumbbell_z       0\n",
      "roll_forearm            0\n",
      "pitch_forearm           0\n",
      "yaw_forearm             0\n",
      "total_accel_forearm     0\n",
      "gyros_forearm_x         0\n",
      "gyros_forearm_y         0\n",
      "gyros_forearm_z         0\n",
      "accel_forearm_x         0\n",
      "accel_forearm_y         0\n",
      "accel_forearm_z         0\n",
      "magnet_forearm_x        0\n",
      "magnet_forearm_y        0\n",
      "magnet_forearm_z        0\n",
      "classe                  0\n",
      "dtype: int64 \n"
     ]
    }
   ],
   "source": [
    "#removing useless data, counting missing elements (NaN)\n",
    "counter_nan = df.isnull().sum()\n",
    "counter_without_nan = counter_nan[counter_nan==0]\n",
    "print(\"total NaN {} \\n total without NaN {} \".format(counter_nan, counter_without_nan))"
   ]
  },
  {
   "cell_type": "code",
   "execution_count": 12,
   "metadata": {},
   "outputs": [
    {
     "data": {
      "text/plain": [
       "'0.24.2'"
      ]
     },
     "execution_count": 12,
     "metadata": {},
     "output_type": "execute_result"
    }
   ],
   "source": [
    "pd.__version__"
   ]
  },
  {
   "cell_type": "code",
   "execution_count": 13,
   "metadata": {},
   "outputs": [],
   "source": [
    "#removing columns with missing elements\n",
    "df2 = df[counter_without_nan.keys()]"
   ]
  },
  {
   "cell_type": "code",
   "execution_count": 14,
   "metadata": {},
   "outputs": [
    {
     "data": {
      "text/plain": [
       "(19622, 60)"
      ]
     },
     "execution_count": 14,
     "metadata": {},
     "output_type": "execute_result"
    }
   ],
   "source": [
    "df2.shape"
   ]
  },
  {
   "cell_type": "code",
   "execution_count": 15,
   "metadata": {},
   "outputs": [
    {
     "data": {
      "text/plain": [
       "(19622, 160)"
      ]
     },
     "execution_count": 15,
     "metadata": {},
     "output_type": "execute_result"
    }
   ],
   "source": [
    "df.shape"
   ]
  },
  {
   "cell_type": "code",
   "execution_count": 16,
   "metadata": {},
   "outputs": [
    {
     "data": {
      "text/html": [
       "<div>\n",
       "<style scoped>\n",
       "    .dataframe tbody tr th:only-of-type {\n",
       "        vertical-align: middle;\n",
       "    }\n",
       "\n",
       "    .dataframe tbody tr th {\n",
       "        vertical-align: top;\n",
       "    }\n",
       "\n",
       "    .dataframe thead th {\n",
       "        text-align: right;\n",
       "    }\n",
       "</style>\n",
       "<table border=\"1\" class=\"dataframe\">\n",
       "  <thead>\n",
       "    <tr style=\"text-align: right;\">\n",
       "      <th></th>\n",
       "      <th>Unnamed: 0</th>\n",
       "      <th>user_name</th>\n",
       "      <th>raw_timestamp_part_1</th>\n",
       "      <th>raw_timestamp_part_2</th>\n",
       "      <th>cvtd_timestamp</th>\n",
       "      <th>new_window</th>\n",
       "      <th>num_window</th>\n",
       "      <th>roll_belt</th>\n",
       "      <th>pitch_belt</th>\n",
       "      <th>yaw_belt</th>\n",
       "      <th>...</th>\n",
       "      <th>gyros_forearm_x</th>\n",
       "      <th>gyros_forearm_y</th>\n",
       "      <th>gyros_forearm_z</th>\n",
       "      <th>accel_forearm_x</th>\n",
       "      <th>accel_forearm_y</th>\n",
       "      <th>accel_forearm_z</th>\n",
       "      <th>magnet_forearm_x</th>\n",
       "      <th>magnet_forearm_y</th>\n",
       "      <th>magnet_forearm_z</th>\n",
       "      <th>classe</th>\n",
       "    </tr>\n",
       "  </thead>\n",
       "  <tbody>\n",
       "    <tr>\n",
       "      <th>0</th>\n",
       "      <td>1</td>\n",
       "      <td>carlitos</td>\n",
       "      <td>1323084231</td>\n",
       "      <td>788290</td>\n",
       "      <td>05/12/2011 11:23</td>\n",
       "      <td>no</td>\n",
       "      <td>11</td>\n",
       "      <td>1.41</td>\n",
       "      <td>8.07</td>\n",
       "      <td>-94.4</td>\n",
       "      <td>...</td>\n",
       "      <td>0.03</td>\n",
       "      <td>0.00</td>\n",
       "      <td>-0.02</td>\n",
       "      <td>192</td>\n",
       "      <td>203</td>\n",
       "      <td>-215</td>\n",
       "      <td>-17</td>\n",
       "      <td>654.0</td>\n",
       "      <td>476.0</td>\n",
       "      <td>A</td>\n",
       "    </tr>\n",
       "    <tr>\n",
       "      <th>1</th>\n",
       "      <td>2</td>\n",
       "      <td>carlitos</td>\n",
       "      <td>1323084231</td>\n",
       "      <td>808298</td>\n",
       "      <td>05/12/2011 11:23</td>\n",
       "      <td>no</td>\n",
       "      <td>11</td>\n",
       "      <td>1.41</td>\n",
       "      <td>8.07</td>\n",
       "      <td>-94.4</td>\n",
       "      <td>...</td>\n",
       "      <td>0.02</td>\n",
       "      <td>0.00</td>\n",
       "      <td>-0.02</td>\n",
       "      <td>192</td>\n",
       "      <td>203</td>\n",
       "      <td>-216</td>\n",
       "      <td>-18</td>\n",
       "      <td>661.0</td>\n",
       "      <td>473.0</td>\n",
       "      <td>A</td>\n",
       "    </tr>\n",
       "    <tr>\n",
       "      <th>2</th>\n",
       "      <td>3</td>\n",
       "      <td>carlitos</td>\n",
       "      <td>1323084231</td>\n",
       "      <td>820366</td>\n",
       "      <td>05/12/2011 11:23</td>\n",
       "      <td>no</td>\n",
       "      <td>11</td>\n",
       "      <td>1.42</td>\n",
       "      <td>8.07</td>\n",
       "      <td>-94.4</td>\n",
       "      <td>...</td>\n",
       "      <td>0.03</td>\n",
       "      <td>-0.02</td>\n",
       "      <td>0.00</td>\n",
       "      <td>196</td>\n",
       "      <td>204</td>\n",
       "      <td>-213</td>\n",
       "      <td>-18</td>\n",
       "      <td>658.0</td>\n",
       "      <td>469.0</td>\n",
       "      <td>A</td>\n",
       "    </tr>\n",
       "    <tr>\n",
       "      <th>3</th>\n",
       "      <td>4</td>\n",
       "      <td>carlitos</td>\n",
       "      <td>1323084232</td>\n",
       "      <td>120339</td>\n",
       "      <td>05/12/2011 11:23</td>\n",
       "      <td>no</td>\n",
       "      <td>12</td>\n",
       "      <td>1.48</td>\n",
       "      <td>8.05</td>\n",
       "      <td>-94.4</td>\n",
       "      <td>...</td>\n",
       "      <td>0.02</td>\n",
       "      <td>-0.02</td>\n",
       "      <td>0.00</td>\n",
       "      <td>189</td>\n",
       "      <td>206</td>\n",
       "      <td>-214</td>\n",
       "      <td>-16</td>\n",
       "      <td>658.0</td>\n",
       "      <td>469.0</td>\n",
       "      <td>A</td>\n",
       "    </tr>\n",
       "    <tr>\n",
       "      <th>4</th>\n",
       "      <td>5</td>\n",
       "      <td>carlitos</td>\n",
       "      <td>1323084232</td>\n",
       "      <td>196328</td>\n",
       "      <td>05/12/2011 11:23</td>\n",
       "      <td>no</td>\n",
       "      <td>12</td>\n",
       "      <td>1.48</td>\n",
       "      <td>8.07</td>\n",
       "      <td>-94.4</td>\n",
       "      <td>...</td>\n",
       "      <td>0.02</td>\n",
       "      <td>0.00</td>\n",
       "      <td>-0.02</td>\n",
       "      <td>189</td>\n",
       "      <td>206</td>\n",
       "      <td>-214</td>\n",
       "      <td>-17</td>\n",
       "      <td>655.0</td>\n",
       "      <td>473.0</td>\n",
       "      <td>A</td>\n",
       "    </tr>\n",
       "  </tbody>\n",
       "</table>\n",
       "<p>5 rows × 60 columns</p>\n",
       "</div>"
      ],
      "text/plain": [
       "   Unnamed: 0 user_name  raw_timestamp_part_1  raw_timestamp_part_2  \\\n",
       "0           1  carlitos            1323084231                788290   \n",
       "1           2  carlitos            1323084231                808298   \n",
       "2           3  carlitos            1323084231                820366   \n",
       "3           4  carlitos            1323084232                120339   \n",
       "4           5  carlitos            1323084232                196328   \n",
       "\n",
       "     cvtd_timestamp new_window  num_window  roll_belt  pitch_belt  yaw_belt  \\\n",
       "0  05/12/2011 11:23         no          11       1.41        8.07     -94.4   \n",
       "1  05/12/2011 11:23         no          11       1.41        8.07     -94.4   \n",
       "2  05/12/2011 11:23         no          11       1.42        8.07     -94.4   \n",
       "3  05/12/2011 11:23         no          12       1.48        8.05     -94.4   \n",
       "4  05/12/2011 11:23         no          12       1.48        8.07     -94.4   \n",
       "\n",
       "   ...  gyros_forearm_x  gyros_forearm_y  gyros_forearm_z  accel_forearm_x  \\\n",
       "0  ...             0.03             0.00            -0.02              192   \n",
       "1  ...             0.02             0.00            -0.02              192   \n",
       "2  ...             0.03            -0.02             0.00              196   \n",
       "3  ...             0.02            -0.02             0.00              189   \n",
       "4  ...             0.02             0.00            -0.02              189   \n",
       "\n",
       "   accel_forearm_y  accel_forearm_z  magnet_forearm_x  magnet_forearm_y  \\\n",
       "0              203             -215               -17             654.0   \n",
       "1              203             -216               -18             661.0   \n",
       "2              204             -213               -18             658.0   \n",
       "3              206             -214               -16             658.0   \n",
       "4              206             -214               -17             655.0   \n",
       "\n",
       "   magnet_forearm_z  classe  \n",
       "0             476.0       A  \n",
       "1             473.0       A  \n",
       "2             469.0       A  \n",
       "3             469.0       A  \n",
       "4             473.0       A  \n",
       "\n",
       "[5 rows x 60 columns]"
      ]
     },
     "execution_count": 16,
     "metadata": {},
     "output_type": "execute_result"
    }
   ],
   "source": [
    "df2.head()"
   ]
  },
  {
   "cell_type": "code",
   "execution_count": 17,
   "metadata": {},
   "outputs": [
    {
     "name": "stderr",
     "output_type": "stream",
     "text": [
      "C:\\ProgramData\\Anaconda3\\lib\\site-packages\\ipykernel_launcher.py:2: DeprecationWarning: \n",
      ".ix is deprecated. Please use\n",
      ".loc for label based indexing or\n",
      ".iloc for positional indexing\n",
      "\n",
      "See the documentation here:\n",
      "http://pandas.pydata.org/pandas-docs/stable/indexing.html#ix-indexer-is-deprecated\n",
      "  \n"
     ]
    },
    {
     "data": {
      "text/html": [
       "<div>\n",
       "<style scoped>\n",
       "    .dataframe tbody tr th:only-of-type {\n",
       "        vertical-align: middle;\n",
       "    }\n",
       "\n",
       "    .dataframe tbody tr th {\n",
       "        vertical-align: top;\n",
       "    }\n",
       "\n",
       "    .dataframe thead th {\n",
       "        text-align: right;\n",
       "    }\n",
       "</style>\n",
       "<table border=\"1\" class=\"dataframe\">\n",
       "  <thead>\n",
       "    <tr style=\"text-align: right;\">\n",
       "      <th></th>\n",
       "      <th>roll_belt</th>\n",
       "      <th>pitch_belt</th>\n",
       "      <th>yaw_belt</th>\n",
       "      <th>total_accel_belt</th>\n",
       "      <th>gyros_belt_x</th>\n",
       "      <th>gyros_belt_y</th>\n",
       "      <th>gyros_belt_z</th>\n",
       "      <th>accel_belt_x</th>\n",
       "      <th>accel_belt_y</th>\n",
       "      <th>accel_belt_z</th>\n",
       "      <th>...</th>\n",
       "      <th>gyros_forearm_x</th>\n",
       "      <th>gyros_forearm_y</th>\n",
       "      <th>gyros_forearm_z</th>\n",
       "      <th>accel_forearm_x</th>\n",
       "      <th>accel_forearm_y</th>\n",
       "      <th>accel_forearm_z</th>\n",
       "      <th>magnet_forearm_x</th>\n",
       "      <th>magnet_forearm_y</th>\n",
       "      <th>magnet_forearm_z</th>\n",
       "      <th>classe</th>\n",
       "    </tr>\n",
       "  </thead>\n",
       "  <tbody>\n",
       "    <tr>\n",
       "      <th>0</th>\n",
       "      <td>1.41</td>\n",
       "      <td>8.07</td>\n",
       "      <td>-94.4</td>\n",
       "      <td>3</td>\n",
       "      <td>0.00</td>\n",
       "      <td>0.00</td>\n",
       "      <td>-0.02</td>\n",
       "      <td>-21</td>\n",
       "      <td>4</td>\n",
       "      <td>22</td>\n",
       "      <td>...</td>\n",
       "      <td>0.03</td>\n",
       "      <td>0.00</td>\n",
       "      <td>-0.02</td>\n",
       "      <td>192</td>\n",
       "      <td>203</td>\n",
       "      <td>-215</td>\n",
       "      <td>-17</td>\n",
       "      <td>654.0</td>\n",
       "      <td>476.0</td>\n",
       "      <td>A</td>\n",
       "    </tr>\n",
       "    <tr>\n",
       "      <th>1</th>\n",
       "      <td>1.41</td>\n",
       "      <td>8.07</td>\n",
       "      <td>-94.4</td>\n",
       "      <td>3</td>\n",
       "      <td>0.02</td>\n",
       "      <td>0.00</td>\n",
       "      <td>-0.02</td>\n",
       "      <td>-22</td>\n",
       "      <td>4</td>\n",
       "      <td>22</td>\n",
       "      <td>...</td>\n",
       "      <td>0.02</td>\n",
       "      <td>0.00</td>\n",
       "      <td>-0.02</td>\n",
       "      <td>192</td>\n",
       "      <td>203</td>\n",
       "      <td>-216</td>\n",
       "      <td>-18</td>\n",
       "      <td>661.0</td>\n",
       "      <td>473.0</td>\n",
       "      <td>A</td>\n",
       "    </tr>\n",
       "    <tr>\n",
       "      <th>2</th>\n",
       "      <td>1.42</td>\n",
       "      <td>8.07</td>\n",
       "      <td>-94.4</td>\n",
       "      <td>3</td>\n",
       "      <td>0.00</td>\n",
       "      <td>0.00</td>\n",
       "      <td>-0.02</td>\n",
       "      <td>-20</td>\n",
       "      <td>5</td>\n",
       "      <td>23</td>\n",
       "      <td>...</td>\n",
       "      <td>0.03</td>\n",
       "      <td>-0.02</td>\n",
       "      <td>0.00</td>\n",
       "      <td>196</td>\n",
       "      <td>204</td>\n",
       "      <td>-213</td>\n",
       "      <td>-18</td>\n",
       "      <td>658.0</td>\n",
       "      <td>469.0</td>\n",
       "      <td>A</td>\n",
       "    </tr>\n",
       "    <tr>\n",
       "      <th>3</th>\n",
       "      <td>1.48</td>\n",
       "      <td>8.05</td>\n",
       "      <td>-94.4</td>\n",
       "      <td>3</td>\n",
       "      <td>0.02</td>\n",
       "      <td>0.00</td>\n",
       "      <td>-0.03</td>\n",
       "      <td>-22</td>\n",
       "      <td>3</td>\n",
       "      <td>21</td>\n",
       "      <td>...</td>\n",
       "      <td>0.02</td>\n",
       "      <td>-0.02</td>\n",
       "      <td>0.00</td>\n",
       "      <td>189</td>\n",
       "      <td>206</td>\n",
       "      <td>-214</td>\n",
       "      <td>-16</td>\n",
       "      <td>658.0</td>\n",
       "      <td>469.0</td>\n",
       "      <td>A</td>\n",
       "    </tr>\n",
       "    <tr>\n",
       "      <th>4</th>\n",
       "      <td>1.48</td>\n",
       "      <td>8.07</td>\n",
       "      <td>-94.4</td>\n",
       "      <td>3</td>\n",
       "      <td>0.02</td>\n",
       "      <td>0.02</td>\n",
       "      <td>-0.02</td>\n",
       "      <td>-21</td>\n",
       "      <td>2</td>\n",
       "      <td>24</td>\n",
       "      <td>...</td>\n",
       "      <td>0.02</td>\n",
       "      <td>0.00</td>\n",
       "      <td>-0.02</td>\n",
       "      <td>189</td>\n",
       "      <td>206</td>\n",
       "      <td>-214</td>\n",
       "      <td>-17</td>\n",
       "      <td>655.0</td>\n",
       "      <td>473.0</td>\n",
       "      <td>A</td>\n",
       "    </tr>\n",
       "  </tbody>\n",
       "</table>\n",
       "<p>5 rows × 53 columns</p>\n",
       "</div>"
      ],
      "text/plain": [
       "   roll_belt  pitch_belt  yaw_belt  total_accel_belt  gyros_belt_x  \\\n",
       "0       1.41        8.07     -94.4                 3          0.00   \n",
       "1       1.41        8.07     -94.4                 3          0.02   \n",
       "2       1.42        8.07     -94.4                 3          0.00   \n",
       "3       1.48        8.05     -94.4                 3          0.02   \n",
       "4       1.48        8.07     -94.4                 3          0.02   \n",
       "\n",
       "   gyros_belt_y  gyros_belt_z  accel_belt_x  accel_belt_y  accel_belt_z  ...  \\\n",
       "0          0.00         -0.02           -21             4            22  ...   \n",
       "1          0.00         -0.02           -22             4            22  ...   \n",
       "2          0.00         -0.02           -20             5            23  ...   \n",
       "3          0.00         -0.03           -22             3            21  ...   \n",
       "4          0.02         -0.02           -21             2            24  ...   \n",
       "\n",
       "   gyros_forearm_x  gyros_forearm_y  gyros_forearm_z  accel_forearm_x  \\\n",
       "0             0.03             0.00            -0.02              192   \n",
       "1             0.02             0.00            -0.02              192   \n",
       "2             0.03            -0.02             0.00              196   \n",
       "3             0.02            -0.02             0.00              189   \n",
       "4             0.02             0.00            -0.02              189   \n",
       "\n",
       "   accel_forearm_y  accel_forearm_z  magnet_forearm_x  magnet_forearm_y  \\\n",
       "0              203             -215               -17             654.0   \n",
       "1              203             -216               -18             661.0   \n",
       "2              204             -213               -18             658.0   \n",
       "3              206             -214               -16             658.0   \n",
       "4              206             -214               -17             655.0   \n",
       "\n",
       "   magnet_forearm_z  classe  \n",
       "0             476.0       A  \n",
       "1             473.0       A  \n",
       "2             469.0       A  \n",
       "3             469.0       A  \n",
       "4             473.0       A  \n",
       "\n",
       "[5 rows x 53 columns]"
      ]
     },
     "execution_count": 17,
     "metadata": {},
     "output_type": "execute_result"
    }
   ],
   "source": [
    "#removing the first 7 columns with no useful info\n",
    "df2 = df2.ix[:,7:]\n",
    "df2.head()"
   ]
  },
  {
   "cell_type": "code",
   "execution_count": 18,
   "metadata": {},
   "outputs": [
    {
     "name": "stdout",
     "output_type": "stream",
     "text": [
      "Index(['roll_belt', 'pitch_belt', 'yaw_belt', 'total_accel_belt',\n",
      "       'gyros_belt_x', 'gyros_belt_y', 'gyros_belt_z', 'accel_belt_x',\n",
      "       'accel_belt_y', 'accel_belt_z', 'magnet_belt_x', 'magnet_belt_y',\n",
      "       'magnet_belt_z', 'roll_arm', 'pitch_arm', 'yaw_arm', 'total_accel_arm',\n",
      "       'gyros_arm_x', 'gyros_arm_y', 'gyros_arm_z', 'accel_arm_x',\n",
      "       'accel_arm_y', 'accel_arm_z', 'magnet_arm_x', 'magnet_arm_y',\n",
      "       'magnet_arm_z', 'roll_dumbbell', 'pitch_dumbbell', 'yaw_dumbbell',\n",
      "       'total_accel_dumbbell', 'gyros_dumbbell_x', 'gyros_dumbbell_y',\n",
      "       'gyros_dumbbell_z', 'accel_dumbbell_x', 'accel_dumbbell_y',\n",
      "       'accel_dumbbell_z', 'magnet_dumbbell_x', 'magnet_dumbbell_y',\n",
      "       'magnet_dumbbell_z', 'roll_forearm', 'pitch_forearm', 'yaw_forearm',\n",
      "       'total_accel_forearm', 'gyros_forearm_x', 'gyros_forearm_y',\n",
      "       'gyros_forearm_z', 'accel_forearm_x', 'accel_forearm_y',\n",
      "       'accel_forearm_z', 'magnet_forearm_x', 'magnet_forearm_y',\n",
      "       'magnet_forearm_z', 'classe'],\n",
      "      dtype='object')\n"
     ]
    }
   ],
   "source": [
    "columns = df2.columns\n",
    "print (columns)"
   ]
  },
  {
   "cell_type": "code",
   "execution_count": 19,
   "metadata": {},
   "outputs": [],
   "source": [
    "#get features and scale them\n",
    "#get x and convert it to numpy array\n",
    "x = df2.iloc[:,:-1].values #all columns except the last\n",
    "standard_scaler = StandardScaler()\n",
    "x_std = standard_scaler.fit_transform(x)"
   ]
  },
  {
   "cell_type": "code",
   "execution_count": 20,
   "metadata": {},
   "outputs": [],
   "source": [
    "#get class labels and encode it into number\n",
    "#get class label data\n",
    "y = df2.iloc[:,-1].values"
   ]
  },
  {
   "cell_type": "code",
   "execution_count": 30,
   "metadata": {},
   "outputs": [
    {
     "data": {
      "text/plain": [
       "array(['B', 'B', 'B', 'B', 'B', 'B', 'B', 'B', 'B', 'B', 'B', 'B', 'B',\n",
       "       'B', 'B', 'B', 'B', 'B', 'B'], dtype=object)"
      ]
     },
     "execution_count": 30,
     "metadata": {},
     "output_type": "execute_result"
    }
   ],
   "source": [
    "y[9000:9019]"
   ]
  },
  {
   "cell_type": "code",
   "execution_count": 31,
   "metadata": {},
   "outputs": [],
   "source": [
    "#encode class labels\n",
    "class_labels = np.unique(y)"
   ]
  },
  {
   "cell_type": "code",
   "execution_count": 32,
   "metadata": {},
   "outputs": [
    {
     "data": {
      "text/plain": [
       "array(['A', 'B', 'C', 'D', 'E'], dtype=object)"
      ]
     },
     "execution_count": 32,
     "metadata": {},
     "output_type": "execute_result"
    }
   ],
   "source": [
    "class_labels[:5]"
   ]
  },
  {
   "cell_type": "code",
   "execution_count": 33,
   "metadata": {},
   "outputs": [
    {
     "data": {
      "text/plain": [
       "array([0, 0, 0, 0, 0])"
      ]
     },
     "execution_count": 33,
     "metadata": {},
     "output_type": "execute_result"
    }
   ],
   "source": [
    "label_encoder = LabelEncoder()\n",
    "y = label_encoder.fit_transform(y)\n",
    "y[:5]"
   ]
  },
  {
   "cell_type": "code",
   "execution_count": 34,
   "metadata": {},
   "outputs": [
    {
     "data": {
      "text/plain": [
       "1"
      ]
     },
     "execution_count": 34,
     "metadata": {},
     "output_type": "execute_result"
    }
   ],
   "source": [
    "y[9000]"
   ]
  },
  {
   "cell_type": "code",
   "execution_count": 35,
   "metadata": {},
   "outputs": [],
   "source": [
    "#split the data into training set and test set\n",
    "test_percentage = 0.1\n",
    "x_train, x_test, y_train, y_test = train_test_split(x_std, y, test_size=test_percentage, random_state = 0)"
   ]
  },
  {
   "cell_type": "code",
   "execution_count": 36,
   "metadata": {},
   "outputs": [],
   "source": [
    "#t distributed stochastic neighbor Embedding (t-SNE) visualization\n",
    "from sklearn.manifold import TSNE\n",
    "tsne = TSNE(n_components = 2, random_state = 0)\n",
    "x_test_2d = tsne.fit_transform(x_test)"
   ]
  },
  {
   "cell_type": "code",
   "execution_count": 44,
   "metadata": {},
   "outputs": [
    {
     "data": {
      "image/png": "[encoded data removed]",
      "text/plain": [
       "<Figure size 432x288 with 1 Axes>"
      ]
     },
     "metadata": {
      "needs_background": "light"
     },
     "output_type": "display_data"
    }
   ],
   "source": [
    "#scatter plot the sample points among 5 classes\n",
    "markers = ('s','d','o','^','v')\n",
    "color_map = {0:'red',1:'blue',2:'lightgreen',3:'purple',4:'cyan'}\n",
    "plt.figure()\n",
    "for idx, cl in enumerate(np.unique(y_test)):\n",
    "    plt.scatter(x=x_test_2d[y_test==cl,0], y=x_test_2d[y_test==cl,1], c=color_map[idx], marker=markers[idx], label=cl)\n",
    "plt.xlabel('X in t-SNE')\n",
    "plt.ylabel('Y in t-SNE')\n",
    "plt.legend('Y in t-SNE')\n",
    "plt.title('t-SNE visualization of test data')\n",
    "plt.show()"
   ]
  },
  {
   "cell_type": "code",
   "execution_count": 43,
   "metadata": {},
   "outputs": [
    {
     "data": {
      "text/plain": [
       "'3.0.3'"
      ]
     },
     "execution_count": 43,
     "metadata": {},
     "output_type": "execute_result"
    }
   ],
   "source": [
    "import matplotlib\n",
    "matplotlib.__version__"
   ]
  }
 ],
 "metadata": {
  "kernelspec": {
   "display_name": "Python 3",
   "language": "python",
   "name": "python3"
  },
  "language_info": {
   "codemirror_mode": {
    "name": "ipython",
    "version": 3
   },
   "file_extension": ".py",
   "mimetype": "text/x-python",
   "name": "python",
   "nbconvert_exporter": "python",
   "pygments_lexer": "ipython3",
   "version": "3.7.3"
  }
 },
 "nbformat": 4,
 "nbformat_minor": 2
}
